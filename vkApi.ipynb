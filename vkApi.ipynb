{
 "cells": [
  {
   "cell_type": "code",
   "execution_count": 2,
   "metadata": {
    "collapsed": true
   },
   "outputs": [],
   "source": [
    "import requests\n",
    "import json"
   ]
  },
  {
   "cell_type": "markdown",
   "metadata": {},
   "source": [
    "# VK Api"
   ]
  },
  {
   "cell_type": "code",
   "execution_count": 3,
   "metadata": {
    "collapsed": false
   },
   "outputs": [
    {
     "name": "stdout",
     "output_type": "stream",
     "text": [
      "77\n"
     ]
    }
   ],
   "source": [
    "vk_url=\"https://api.vkontakte.ru/method/\"\n",
    "uid='21250211'\n",
    "\n",
    "resp = requests.post(vk_url+'friends.get',\n",
    "                'user_id=%s&fields=uid,first_name,last_name,photo' % uid)\n",
    "\n",
    "frends_id=[]\n",
    "\n",
    "for row in resp.json()['response']:\n",
    "    frends_id.append(row['uid'])\n",
    "    \n",
    "print len(frends_id)\n",
    "    \n",
    "# print (json.dumps(frends_id, indent=4, sort_keys=True, ensure_ascii=False))\n"
   ]
  },
  {
   "cell_type": "code",
   "execution_count": 4,
   "metadata": {
    "collapsed": false
   },
   "outputs": [
    {
     "name": "stdout",
     "output_type": "stream",
     "text": [
      "1000\n",
      "[44272794]\n",
      "2000\n",
      "[]\n",
      "3000\n",
      "[]\n",
      "4000\n",
      "[132738696, 133410355]\n",
      "5000\n",
      "[]\n",
      "6000\n",
      "[]\n",
      "7000\n",
      "[]\n",
      "8000\n",
      "[]\n",
      "9000\n",
      "[]\n",
      "[]\n",
      "10000\n",
      "[]\n",
      "[]\n",
      "7131\n"
     ]
    }
   ],
   "source": [
    "vk_url=\"https://api.vkontakte.ru/method/\"\n",
    "gid='29964138'\n",
    "\n",
    "i =0\n",
    "group_id=[]\n",
    "\n",
    "while i<10000:\n",
    "    i=i+1000\n",
    "    \n",
    "    print i\n",
    "\n",
    "    resp = requests.post(vk_url+'groups.getMembers',\n",
    "                    'group_id={}&count=1000&offset={}'.format(gid, i))\n",
    "\n",
    "#     print resp.json()\n",
    "\n",
    "    raznica=list(set(resp.json()['response']['users']) & set(frends_id))  \n",
    "    print raznica \n",
    "    \n",
    "    if i>8000:\n",
    "        print (json.dumps(resp.json()['response']['users'], indent=4, sort_keys=True, ensure_ascii=False))\n",
    "        \n",
    "\n",
    "    for row in resp.json()['response']['users']:\n",
    "\n",
    "        group_id.append(row)\n",
    "         \n",
    "    \n",
    "\n",
    "print len(group_id)\n",
    "    \n",
    "# print (json.dumps(frends_id, indent=4, sort_keys=True, ensure_ascii=False))\n",
    "\n"
   ]
  },
  {
   "cell_type": "code",
   "execution_count": 5,
   "metadata": {
    "collapsed": false
   },
   "outputs": [
    {
     "name": "stdout",
     "output_type": "stream",
     "text": [
      "[132738696, 44272794, 133410355]\n"
     ]
    }
   ],
   "source": [
    "raznica=list(set(group_id) & set(frends_id))  \n",
    "print raznica  \n"
   ]
  },
  {
   "cell_type": "code",
   "execution_count": 6,
   "metadata": {
    "collapsed": false
   },
   "outputs": [
    {
     "ename": "IndexError",
     "evalue": "list index out of range",
     "output_type": "error",
     "traceback": [
      "\u001b[1;31m---------------------------------------------------------------------------\u001b[0m",
      "\u001b[1;31mIndexError\u001b[0m                                Traceback (most recent call last)",
      "\u001b[1;32m<ipython-input-6-6cad211e1730>\u001b[0m in \u001b[0;36m<module>\u001b[1;34m()\u001b[0m\n\u001b[1;32m----> 1\u001b[1;33m \u001b[1;32mprint\u001b[0m \u001b[1;33m(\u001b[0m\u001b[0mgroup_id\u001b[0m\u001b[1;33m[\u001b[0m\u001b[1;36m9998\u001b[0m\u001b[1;33m]\u001b[0m\u001b[1;33m)\u001b[0m\u001b[1;33m\u001b[0m\u001b[0m\n\u001b[0m",
      "\u001b[1;31mIndexError\u001b[0m: list index out of range"
     ]
    }
   ],
   "source": [
    "print (group_id[9998])"
   ]
  }
 ],
 "metadata": {
  "kernelspec": {
   "display_name": "Python [Root]",
   "language": "python",
   "name": "Python [Root]"
  },
  "language_info": {
   "codemirror_mode": {
    "name": "ipython",
    "version": 2
   },
   "file_extension": ".py",
   "mimetype": "text/x-python",
   "name": "python",
   "nbconvert_exporter": "python",
   "pygments_lexer": "ipython2",
   "version": "2.7.12"
  }
 },
 "nbformat": 4,
 "nbformat_minor": 0
}
